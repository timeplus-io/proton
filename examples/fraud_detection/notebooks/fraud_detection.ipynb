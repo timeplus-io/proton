{
 "cells": [
  {
   "cell_type": "code",
   "execution_count": 2,
   "id": "fe213880-9e22-4383-bdda-ad097663a4ec",
   "metadata": {},
   "outputs": [
    {
     "name": "stdout",
     "output_type": "stream",
     "text": [
      "Collecting proton-driver\n",
      "  Downloading proton_driver-0.2.10-cp311-cp311-manylinux_2_17_x86_64.manylinux2014_x86_64.whl.metadata (4.9 kB)\n",
      "Requirement already satisfied: pycaret in /opt/conda/lib/python3.11/site-packages (3.2.0)\n",
      "Requirement already satisfied: pytz in /opt/conda/lib/python3.11/site-packages (from proton-driver) (2023.3.post1)\n",
      "Collecting tzlocal (from proton-driver)\n",
      "  Downloading tzlocal-5.2-py3-none-any.whl.metadata (7.8 kB)\n",
      "Requirement already satisfied: category-encoders>=2.4.0 in /opt/conda/lib/python3.11/site-packages (from pycaret) (2.6.3)\n",
      "Requirement already satisfied: cloudpickle in /opt/conda/lib/python3.11/site-packages (from pycaret) (3.0.0)\n",
      "Requirement already satisfied: deprecation>=2.1.0 in /opt/conda/lib/python3.11/site-packages (from pycaret) (2.1.0)\n",
      "Requirement already satisfied: imbalanced-learn>=0.8.1 in /opt/conda/lib/python3.11/site-packages (from pycaret) (0.11.0)\n",
      "Requirement already satisfied: importlib-metadata>=4.12.0 in /opt/conda/lib/python3.11/site-packages (from pycaret) (6.8.0)\n",
      "Requirement already satisfied: ipython>=5.5.0 in /opt/conda/lib/python3.11/site-packages (from pycaret) (8.16.1)\n",
      "Requirement already satisfied: ipywidgets>=7.6.5 in /opt/conda/lib/python3.11/site-packages (from pycaret) (8.1.1)\n",
      "Requirement already satisfied: jinja2>=1.2 in /opt/conda/lib/python3.11/site-packages (from pycaret) (3.1.2)\n",
      "Requirement already satisfied: joblib>=1.2.0 in /opt/conda/lib/python3.11/site-packages (from pycaret) (1.3.2)\n",
      "Requirement already satisfied: kaleido>=0.2.1 in /opt/conda/lib/python3.11/site-packages (from pycaret) (0.2.1)\n",
      "Requirement already satisfied: lightgbm>=3.0.0 in /opt/conda/lib/python3.11/site-packages (from pycaret) (4.1.0)\n",
      "Requirement already satisfied: markupsafe>=2.0.1 in /opt/conda/lib/python3.11/site-packages (from pycaret) (2.1.3)\n",
      "Requirement already satisfied: matplotlib<=3.6,>=3.3.0 in /opt/conda/lib/python3.11/site-packages (from pycaret) (3.6.0)\n",
      "Requirement already satisfied: nbformat>=4.2.0 in /opt/conda/lib/python3.11/site-packages (from pycaret) (5.9.2)\n",
      "Requirement already satisfied: numba>=0.55.0 in /opt/conda/lib/python3.11/site-packages (from pycaret) (0.57.1)\n",
      "Requirement already satisfied: numpy<1.27,>=1.21 in /opt/conda/lib/python3.11/site-packages (from pycaret) (1.24.4)\n",
      "Requirement already satisfied: pandas<2.0.0,>=1.3.0 in /opt/conda/lib/python3.11/site-packages (from pycaret) (1.5.3)\n",
      "Requirement already satisfied: plotly-resampler>=0.8.3.1 in /opt/conda/lib/python3.11/site-packages (from pycaret) (0.9.1)\n",
      "Requirement already satisfied: plotly>=5.0.0 in /opt/conda/lib/python3.11/site-packages (from pycaret) (5.18.0)\n",
      "Requirement already satisfied: pmdarima!=1.8.1,<3.0.0,>=1.8.0 in /opt/conda/lib/python3.11/site-packages (from pycaret) (2.0.4)\n",
      "Requirement already satisfied: psutil>=5.9.0 in /opt/conda/lib/python3.11/site-packages (from pycaret) (5.9.5)\n",
      "Requirement already satisfied: pyod>=1.0.8 in /opt/conda/lib/python3.11/site-packages (from pycaret) (1.1.2)\n",
      "Requirement already satisfied: requests>=2.27.1 in /opt/conda/lib/python3.11/site-packages (from pycaret) (2.31.0)\n",
      "Requirement already satisfied: schemdraw==0.15 in /opt/conda/lib/python3.11/site-packages (from pycaret) (0.15)\n",
      "Requirement already satisfied: scikit-learn<1.3.0,>=1.0 in /opt/conda/lib/python3.11/site-packages (from pycaret) (1.2.2)\n",
      "Requirement already satisfied: scikit-plot>=0.3.7 in /opt/conda/lib/python3.11/site-packages (from pycaret) (0.3.7)\n",
      "Requirement already satisfied: scipy~=1.10.1 in /opt/conda/lib/python3.11/site-packages (from pycaret) (1.10.1)\n",
      "Requirement already satisfied: sktime!=0.17.1,!=0.17.2,!=0.18.0,<0.22.0,>=0.16.1 in /opt/conda/lib/python3.11/site-packages (from pycaret) (0.21.1)\n",
      "Requirement already satisfied: statsmodels>=0.12.1 in /opt/conda/lib/python3.11/site-packages (from pycaret) (0.14.0)\n",
      "Requirement already satisfied: tbats>=1.1.3 in /opt/conda/lib/python3.11/site-packages (from pycaret) (1.1.3)\n",
      "Requirement already satisfied: tqdm>=4.62.0 in /opt/conda/lib/python3.11/site-packages (from pycaret) (4.66.1)\n",
      "Requirement already satisfied: xxhash in /opt/conda/lib/python3.11/site-packages (from pycaret) (3.4.1)\n",
      "Requirement already satisfied: yellowbrick>=1.4 in /opt/conda/lib/python3.11/site-packages (from pycaret) (1.5)\n",
      "Requirement already satisfied: wurlitzer in /opt/conda/lib/python3.11/site-packages (from pycaret) (3.0.3)\n",
      "Requirement already satisfied: patsy>=0.5.1 in /opt/conda/lib/python3.11/site-packages (from category-encoders>=2.4.0->pycaret) (0.5.3)\n",
      "Requirement already satisfied: packaging in /opt/conda/lib/python3.11/site-packages (from deprecation>=2.1.0->pycaret) (23.2)\n",
      "Requirement already satisfied: threadpoolctl>=2.0.0 in /opt/conda/lib/python3.11/site-packages (from imbalanced-learn>=0.8.1->pycaret) (3.2.0)\n",
      "Requirement already satisfied: zipp>=0.5 in /opt/conda/lib/python3.11/site-packages (from importlib-metadata>=4.12.0->pycaret) (3.17.0)\n",
      "Requirement already satisfied: backcall in /opt/conda/lib/python3.11/site-packages (from ipython>=5.5.0->pycaret) (0.2.0)\n",
      "Requirement already satisfied: decorator in /opt/conda/lib/python3.11/site-packages (from ipython>=5.5.0->pycaret) (5.1.1)\n",
      "Requirement already satisfied: jedi>=0.16 in /opt/conda/lib/python3.11/site-packages (from ipython>=5.5.0->pycaret) (0.19.1)\n",
      "Requirement already satisfied: matplotlib-inline in /opt/conda/lib/python3.11/site-packages (from ipython>=5.5.0->pycaret) (0.1.6)\n",
      "Requirement already satisfied: pickleshare in /opt/conda/lib/python3.11/site-packages (from ipython>=5.5.0->pycaret) (0.7.5)\n",
      "Requirement already satisfied: prompt-toolkit!=3.0.37,<3.1.0,>=3.0.30 in /opt/conda/lib/python3.11/site-packages (from ipython>=5.5.0->pycaret) (3.0.39)\n",
      "Requirement already satisfied: pygments>=2.4.0 in /opt/conda/lib/python3.11/site-packages (from ipython>=5.5.0->pycaret) (2.16.1)\n",
      "Requirement already satisfied: stack-data in /opt/conda/lib/python3.11/site-packages (from ipython>=5.5.0->pycaret) (0.6.2)\n",
      "Requirement already satisfied: traitlets>=5 in /opt/conda/lib/python3.11/site-packages (from ipython>=5.5.0->pycaret) (5.11.2)\n",
      "Requirement already satisfied: pexpect>4.3 in /opt/conda/lib/python3.11/site-packages (from ipython>=5.5.0->pycaret) (4.8.0)\n",
      "Requirement already satisfied: comm>=0.1.3 in /opt/conda/lib/python3.11/site-packages (from ipywidgets>=7.6.5->pycaret) (0.1.4)\n",
      "Requirement already satisfied: widgetsnbextension~=4.0.9 in /opt/conda/lib/python3.11/site-packages (from ipywidgets>=7.6.5->pycaret) (4.0.9)\n",
      "Requirement already satisfied: jupyterlab-widgets~=3.0.9 in /opt/conda/lib/python3.11/site-packages (from ipywidgets>=7.6.5->pycaret) (3.0.9)\n",
      "Requirement already satisfied: contourpy>=1.0.1 in /opt/conda/lib/python3.11/site-packages (from matplotlib<=3.6,>=3.3.0->pycaret) (1.1.1)\n",
      "Requirement already satisfied: cycler>=0.10 in /opt/conda/lib/python3.11/site-packages (from matplotlib<=3.6,>=3.3.0->pycaret) (0.12.1)\n",
      "Requirement already satisfied: fonttools>=4.22.0 in /opt/conda/lib/python3.11/site-packages (from matplotlib<=3.6,>=3.3.0->pycaret) (4.43.1)\n",
      "Requirement already satisfied: kiwisolver>=1.0.1 in /opt/conda/lib/python3.11/site-packages (from matplotlib<=3.6,>=3.3.0->pycaret) (1.4.5)\n",
      "Requirement already satisfied: pillow>=6.2.0 in /opt/conda/lib/python3.11/site-packages (from matplotlib<=3.6,>=3.3.0->pycaret) (10.1.0)\n",
      "Requirement already satisfied: pyparsing>=2.2.1 in /opt/conda/lib/python3.11/site-packages (from matplotlib<=3.6,>=3.3.0->pycaret) (3.1.1)\n",
      "Requirement already satisfied: python-dateutil>=2.7 in /opt/conda/lib/python3.11/site-packages (from matplotlib<=3.6,>=3.3.0->pycaret) (2.8.2)\n",
      "Requirement already satisfied: fastjsonschema in /opt/conda/lib/python3.11/site-packages (from nbformat>=4.2.0->pycaret) (2.18.1)\n",
      "Requirement already satisfied: jsonschema>=2.6 in /opt/conda/lib/python3.11/site-packages (from nbformat>=4.2.0->pycaret) (4.19.1)\n",
      "Requirement already satisfied: jupyter-core in /opt/conda/lib/python3.11/site-packages (from nbformat>=4.2.0->pycaret) (5.4.0)\n",
      "Requirement already satisfied: llvmlite<0.41,>=0.40.0dev0 in /opt/conda/lib/python3.11/site-packages (from numba>=0.55.0->pycaret) (0.40.1)\n",
      "Requirement already satisfied: tenacity>=6.2.0 in /opt/conda/lib/python3.11/site-packages (from plotly>=5.0.0->pycaret) (8.2.3)\n",
      "Requirement already satisfied: dash<3.0.0,>=2.11.0 in /opt/conda/lib/python3.11/site-packages (from plotly-resampler>=0.8.3.1->pycaret) (2.14.1)\n",
      "Requirement already satisfied: orjson<4.0.0,>=3.8.0 in /opt/conda/lib/python3.11/site-packages (from plotly-resampler>=0.8.3.1->pycaret) (3.9.10)\n",
      "Requirement already satisfied: trace-updater>=0.0.8 in /opt/conda/lib/python3.11/site-packages (from plotly-resampler>=0.8.3.1->pycaret) (0.0.9.1)\n",
      "Requirement already satisfied: tsdownsample==0.1.2 in /opt/conda/lib/python3.11/site-packages (from plotly-resampler>=0.8.3.1->pycaret) (0.1.2)\n",
      "Requirement already satisfied: Cython!=0.29.18,!=0.29.31,>=0.29 in /opt/conda/lib/python3.11/site-packages (from pmdarima!=1.8.1,<3.0.0,>=1.8.0->pycaret) (3.0.4)\n",
      "Requirement already satisfied: urllib3 in /opt/conda/lib/python3.11/site-packages (from pmdarima!=1.8.1,<3.0.0,>=1.8.0->pycaret) (2.0.7)\n",
      "Requirement already satisfied: setuptools!=50.0.0,>=38.6.0 in /opt/conda/lib/python3.11/site-packages (from pmdarima!=1.8.1,<3.0.0,>=1.8.0->pycaret) (68.2.2)\n",
      "Requirement already satisfied: six in /opt/conda/lib/python3.11/site-packages (from pyod>=1.0.8->pycaret) (1.16.0)\n",
      "Requirement already satisfied: charset-normalizer<4,>=2 in /opt/conda/lib/python3.11/site-packages (from requests>=2.27.1->pycaret) (3.3.0)\n",
      "Requirement already satisfied: idna<4,>=2.5 in /opt/conda/lib/python3.11/site-packages (from requests>=2.27.1->pycaret) (3.4)\n",
      "Requirement already satisfied: certifi>=2017.4.17 in /opt/conda/lib/python3.11/site-packages (from requests>=2.27.1->pycaret) (2023.7.22)\n",
      "Requirement already satisfied: deprecated>=1.2.13 in /opt/conda/lib/python3.11/site-packages (from sktime!=0.17.1,!=0.17.2,!=0.18.0,<0.22.0,>=0.16.1->pycaret) (1.2.14)\n",
      "Requirement already satisfied: scikit-base<0.6.0 in /opt/conda/lib/python3.11/site-packages (from sktime!=0.17.1,!=0.17.2,!=0.18.0,<0.22.0,>=0.16.1->pycaret) (0.5.2)\n",
      "Requirement already satisfied: Flask<3.1,>=1.0.4 in /opt/conda/lib/python3.11/site-packages (from dash<3.0.0,>=2.11.0->plotly-resampler>=0.8.3.1->pycaret) (3.0.0)\n",
      "Requirement already satisfied: Werkzeug<3.1 in /opt/conda/lib/python3.11/site-packages (from dash<3.0.0,>=2.11.0->plotly-resampler>=0.8.3.1->pycaret) (3.0.1)\n",
      "Requirement already satisfied: dash-html-components==2.0.0 in /opt/conda/lib/python3.11/site-packages (from dash<3.0.0,>=2.11.0->plotly-resampler>=0.8.3.1->pycaret) (2.0.0)\n",
      "Requirement already satisfied: dash-core-components==2.0.0 in /opt/conda/lib/python3.11/site-packages (from dash<3.0.0,>=2.11.0->plotly-resampler>=0.8.3.1->pycaret) (2.0.0)\n",
      "Requirement already satisfied: dash-table==5.0.0 in /opt/conda/lib/python3.11/site-packages (from dash<3.0.0,>=2.11.0->plotly-resampler>=0.8.3.1->pycaret) (5.0.0)\n",
      "Requirement already satisfied: typing-extensions>=4.1.1 in /opt/conda/lib/python3.11/site-packages (from dash<3.0.0,>=2.11.0->plotly-resampler>=0.8.3.1->pycaret) (4.8.0)\n",
      "Requirement already satisfied: retrying in /opt/conda/lib/python3.11/site-packages (from dash<3.0.0,>=2.11.0->plotly-resampler>=0.8.3.1->pycaret) (1.3.4)\n",
      "Requirement already satisfied: ansi2html in /opt/conda/lib/python3.11/site-packages (from dash<3.0.0,>=2.11.0->plotly-resampler>=0.8.3.1->pycaret) (1.8.0)\n",
      "Requirement already satisfied: nest-asyncio in /opt/conda/lib/python3.11/site-packages (from dash<3.0.0,>=2.11.0->plotly-resampler>=0.8.3.1->pycaret) (1.5.8)\n",
      "Requirement already satisfied: wrapt<2,>=1.10 in /opt/conda/lib/python3.11/site-packages (from deprecated>=1.2.13->sktime!=0.17.1,!=0.17.2,!=0.18.0,<0.22.0,>=0.16.1->pycaret) (1.16.0)\n",
      "Requirement already satisfied: parso<0.9.0,>=0.8.3 in /opt/conda/lib/python3.11/site-packages (from jedi>=0.16->ipython>=5.5.0->pycaret) (0.8.3)\n",
      "Requirement already satisfied: attrs>=22.2.0 in /opt/conda/lib/python3.11/site-packages (from jsonschema>=2.6->nbformat>=4.2.0->pycaret) (23.1.0)\n",
      "Requirement already satisfied: jsonschema-specifications>=2023.03.6 in /opt/conda/lib/python3.11/site-packages (from jsonschema>=2.6->nbformat>=4.2.0->pycaret) (2023.7.1)\n",
      "Requirement already satisfied: referencing>=0.28.4 in /opt/conda/lib/python3.11/site-packages (from jsonschema>=2.6->nbformat>=4.2.0->pycaret) (0.30.2)\n",
      "Requirement already satisfied: rpds-py>=0.7.1 in /opt/conda/lib/python3.11/site-packages (from jsonschema>=2.6->nbformat>=4.2.0->pycaret) (0.10.6)\n",
      "Requirement already satisfied: ptyprocess>=0.5 in /opt/conda/lib/python3.11/site-packages (from pexpect>4.3->ipython>=5.5.0->pycaret) (0.7.0)\n",
      "Requirement already satisfied: wcwidth in /opt/conda/lib/python3.11/site-packages (from prompt-toolkit!=3.0.37,<3.1.0,>=3.0.30->ipython>=5.5.0->pycaret) (0.2.8)\n",
      "Requirement already satisfied: platformdirs>=2.5 in /opt/conda/lib/python3.11/site-packages (from jupyter-core->nbformat>=4.2.0->pycaret) (3.11.0)\n",
      "Requirement already satisfied: executing>=1.2.0 in /opt/conda/lib/python3.11/site-packages (from stack-data->ipython>=5.5.0->pycaret) (1.2.0)\n",
      "Requirement already satisfied: asttokens>=2.1.0 in /opt/conda/lib/python3.11/site-packages (from stack-data->ipython>=5.5.0->pycaret) (2.4.0)\n",
      "Requirement already satisfied: pure-eval in /opt/conda/lib/python3.11/site-packages (from stack-data->ipython>=5.5.0->pycaret) (0.2.2)\n",
      "Requirement already satisfied: itsdangerous>=2.1.2 in /opt/conda/lib/python3.11/site-packages (from Flask<3.1,>=1.0.4->dash<3.0.0,>=2.11.0->plotly-resampler>=0.8.3.1->pycaret) (2.1.2)\n",
      "Requirement already satisfied: click>=8.1.3 in /opt/conda/lib/python3.11/site-packages (from Flask<3.1,>=1.0.4->dash<3.0.0,>=2.11.0->plotly-resampler>=0.8.3.1->pycaret) (8.1.7)\n",
      "Requirement already satisfied: blinker>=1.6.2 in /opt/conda/lib/python3.11/site-packages (from Flask<3.1,>=1.0.4->dash<3.0.0,>=2.11.0->plotly-resampler>=0.8.3.1->pycaret) (1.6.3)\n",
      "Downloading proton_driver-0.2.10-cp311-cp311-manylinux_2_17_x86_64.manylinux2014_x86_64.whl (990 kB)\n",
      "\u001b[2K   \u001b[90m━━━━━━━━━━━━━━━━━━━━━━━━━━━━━━━━━━━━━━━━\u001b[0m \u001b[32m990.3/990.3 kB\u001b[0m \u001b[31m10.8 MB/s\u001b[0m eta \u001b[36m0:00:00\u001b[0m \u001b[36m0:00:01\u001b[0m\n",
      "\u001b[?25hDownloading tzlocal-5.2-py3-none-any.whl (17 kB)\n",
      "Installing collected packages: tzlocal, proton-driver\n",
      "Successfully installed proton-driver-0.2.10 tzlocal-5.2\n"
     ]
    }
   ],
   "source": [
    "! pip install proton-driver pycaret"
   ]
  },
  {
   "cell_type": "markdown",
   "id": "bee6177e-5a7b-4ea7-bdad-b1f9d1093a47",
   "metadata": {},
   "source": [
    "### Connect to Proton\n",
    "\n",
    "connect to proton and check how many records are there in the `online_payment` stream"
   ]
  },
  {
   "cell_type": "code",
   "execution_count": 8,
   "id": "32e98954-1d91-467c-89e6-0cb9c86d502d",
   "metadata": {},
   "outputs": [
    {
     "name": "stdout",
     "output_type": "stream",
     "text": [
      "(8134,)\n"
     ]
    }
   ],
   "source": [
    "from proton_driver import client\n",
    "\n",
    "c = client.Client(host='proton', port=8463)\n",
    "\n",
    "# query the stream and return in a iterator\n",
    "rows = c.execute_iter(\n",
    "    \"SELECT count(*) \"\n",
    "    \"FROM table(online_payments)\",\n",
    ")\n",
    "for row in rows:\n",
    "    print(row)"
   ]
  },
  {
   "cell_type": "markdown",
   "id": "ca0d7385-fc97-4c0e-98b1-972dd53e2d90",
   "metadata": {},
   "source": [
    "### Build Features"
   ]
  },
  {
   "cell_type": "markdown",
   "id": "312231bd-7d16-4321-8a5f-0511a76af48e",
   "metadata": {},
   "source": [
    "#### Real-time features\n",
    "\n",
    "Real-time features are those attirbutes that can be transformed in real-time \n",
    "\n",
    "In the following SQL, four real-time features are created\n",
    "\n",
    "* type - transaction type, a categorical feature\n",
    "* amount - transaction amount, a numerical feature\n",
    "* previous_amount -  amount of the current account's previous transaction, a numberical feature\n",
    "* time_to_last_transaction - time elapsed from the current account's previous transaction"
   ]
  },
  {
   "cell_type": "code",
   "execution_count": 11,
   "id": "77225edf-cb69-4922-ac3c-a2734129a845",
   "metadata": {},
   "outputs": [
    {
     "data": {
      "text/plain": [
       "[]"
      ]
     },
     "execution_count": 11,
     "metadata": {},
     "output_type": "execute_result"
    }
   ],
   "source": [
    "sql_realtime_feature_view = '''CREATE VIEW IF NOT EXISTS v_fraud_reatime_features AS\n",
    "WITH cte AS\n",
    "  (\n",
    "    SELECT \n",
    "      _tp_time, \n",
    "      id, \n",
    "      type, \n",
    "      account_from, \n",
    "      amount, \n",
    "      lag(amount) AS previous_amount, \n",
    "      lag(_tp_time) AS previous_transaction_time\n",
    "    FROM \n",
    "      default.online_payments\n",
    "    WHERE \n",
    "      _tp_time > earliest_timestamp()\n",
    "    PARTITION BY \n",
    "      account_from\n",
    "  )\n",
    "SELECT \n",
    "  _tp_time, \n",
    "  id, \n",
    "  type, \n",
    "  account_from, \n",
    "  amount, \n",
    "  previous_amount, \n",
    "  previous_transaction_time, \n",
    "  if(previous_transaction_time > earliest_timestamp(), date_diff('second', previous_transaction_time, _tp_time), 0) AS time_to_last_transaction\n",
    "FROM \n",
    "  cte\n",
    "'''\n",
    "\n",
    "c.execute(sql_realtime_feature_view)"
   ]
  },
  {
   "cell_type": "markdown",
   "id": "bc919ea1-ee49-4a4f-9202-d92ff19466e2",
   "metadata": {},
   "source": [
    "#### Near real-time feature\n",
    "\n",
    "Near real-time feature are those features caculated based a short time window\n",
    "\n",
    "In the following two SQL, we create some near real-time features using tumble window\n",
    "\n",
    "* 1m transaction count per account\n",
    "* 1m transaction max amount per account\n",
    "* 1m transaction min amount per account\n",
    "* 1m transaction average amount per account\n",
    "* 5m distinct transaction target account number per account"
   ]
  },
  {
   "cell_type": "code",
   "execution_count": 14,
   "id": "4c361e8e-2b17-4100-adb6-c058d8921733",
   "metadata": {},
   "outputs": [
    {
     "data": {
      "text/plain": [
       "[]"
      ]
     },
     "execution_count": 14,
     "metadata": {},
     "output_type": "execute_result"
    }
   ],
   "source": [
    "sql_1m_feature = '''CREATE VIEW IF NOT EXISTS v_fraud_1m_features AS\n",
    "SELECT \n",
    "  window_start, \n",
    "  account_from, \n",
    "  count(*) AS count, \n",
    "  max(amount) AS max_amount, \n",
    "  min(amount) AS min_amount, \n",
    "  avg(amount) AS avg_amount\n",
    "FROM \n",
    "  tumble(default.online_payments, 60s)\n",
    "WHERE \n",
    "  _tp_time > earliest_timestamp()\n",
    "GROUP BY \n",
    "  window_start, account_from\n",
    "'''\n",
    "\n",
    "sql_5m_feature = '''CREATE VIEW IF NOT EXISTS v_fraud_5m_features AS\n",
    "SELECT \n",
    "  window_start, \n",
    "  account_from, \n",
    "  count_distinct(account_to) AS target_counts\n",
    "FROM \n",
    "  tumble(default.online_payments, 5m)\n",
    "WHERE \n",
    "  _tp_time > earliest_timestamp()\n",
    "GROUP BY \n",
    "  window_start, account_from\n",
    "'''\n",
    "\n",
    "c.execute(sql_1m_feature)\n",
    "c.execute(sql_5m_feature)"
   ]
  },
  {
   "cell_type": "markdown",
   "id": "a2b89f86-28f3-46e8-b03c-e8eff381673e",
   "metadata": {},
   "source": [
    "#### Historical features\n",
    "\n",
    "Historical features are feature build on top of historical data\n",
    "\n",
    "Following SQL create a feature view using 1 day tumble window and then do a global aggregation to get the daily aggregation from all hitorical data\n",
    "\n",
    "* daily average transaction amount per account\n",
    "* daily average max transaction amount per account"
   ]
  },
  {
   "cell_type": "code",
   "execution_count": 18,
   "id": "9862f68e-a659-4e6d-8426-35f201446b5b",
   "metadata": {},
   "outputs": [
    {
     "data": {
      "text/plain": [
       "[]"
      ]
     },
     "execution_count": 18,
     "metadata": {},
     "output_type": "execute_result"
    }
   ],
   "source": [
    "sql_1d_global_feature = '''CREATE VIEW  IF NOT EXISTS v_fraud_1d_features AS\n",
    "WITH agg1d AS\n",
    "  (\n",
    "    SELECT \n",
    "      window_start, account_from, count(*) AS count, max(amount) AS max_amount\n",
    "    FROM \n",
    "      tumble(default.online_payments, 1d)\n",
    "    WHERE \n",
    "      _tp_time > earliest_timestamp()\n",
    "    GROUP BY \n",
    "      window_start, account_from\n",
    "  )\n",
    "SELECT \n",
    "  now64() as ts, account_from, avg(count) AS avg_count, avg(max_amount) AS avg_max_amount\n",
    "FROM \n",
    "  agg1d\n",
    "GROUP BY \n",
    "  account_from\n",
    "'''\n",
    "\n",
    "c.execute(sql_1d_global_feature)"
   ]
  },
  {
   "cell_type": "markdown",
   "id": "9934c04c-4433-47fd-81cf-5279f07d37a8",
   "metadata": {},
   "source": [
    "#### Joining all features\n",
    "\n",
    "leverage asof join, create a feature materialized view for each transaction record\n",
    "\n",
    "the materialized view will be continuously running in the background, output features as soon as new data comming in\n"
   ]
  },
  {
   "cell_type": "code",
   "execution_count": 19,
   "id": "d7a33964-1883-4d7e-b67f-6014bbfc3260",
   "metadata": {},
   "outputs": [
    {
     "data": {
      "text/plain": [
       "[]"
      ]
     },
     "execution_count": 19,
     "metadata": {},
     "output_type": "execute_result"
    }
   ],
   "source": [
    "sql_all_features = '''\n",
    "CREATE MATERIALIZED VIEW IF NOT EXISTS mv_fraud_all_features AS\n",
    "SELECT \n",
    "  _tp_time AS time, \n",
    "  v_fraud_reatime_features.id AS id, \n",
    "  v_fraud_reatime_features.type AS type, \n",
    "  v_fraud_reatime_features.account_from AS account, \n",
    "  v_fraud_reatime_features.amount AS amount, \n",
    "  v_fraud_reatime_features.previous_amount AS previous_amount, \n",
    "  v_fraud_reatime_features.time_to_last_transaction AS time_to_last_transaction, \n",
    "  v_fraud_1m_features.count AS transaction_count_1m, \n",
    "  v_fraud_1m_features.max_amount AS max_transaction_amount_1m, \n",
    "  v_fraud_1m_features.avg_amount AS avg_transaction_amount_1m, \n",
    "  v_fraud_5m_features.target_counts AS distinct_transaction_target_count_5m, \n",
    "  v_fraud_1d_features.avg_count AS avg_transaction_count_1d, \n",
    "  v_fraud_1d_features.avg_max_amount AS avg_max_transaction_count_1d\n",
    "FROM \n",
    "  v_fraud_reatime_features\n",
    "ASOF LEFT JOIN v_fraud_1m_features ON (v_fraud_reatime_features.account_from = v_fraud_1m_features.account_from) AND (v_fraud_reatime_features._tp_time >= v_fraud_1m_features.window_start)\n",
    "ASOF LEFT JOIN v_fraud_5m_features ON (v_fraud_reatime_features.account_from = v_fraud_5m_features.account_from) AND (v_fraud_reatime_features._tp_time >= v_fraud_5m_features.window_start)\n",
    "ASOF LEFT JOIN v_fraud_1d_features ON (v_fraud_reatime_features.account_from = v_fraud_1d_features.account_from) AND (v_fraud_reatime_features._tp_time >= v_fraud_1d_features.ts)\n",
    "SETTINGS \n",
    "  keep_versions = 100\n",
    "'''\n",
    "\n",
    "c.execute(sql_all_features)"
   ]
  },
  {
   "cell_type": "markdown",
   "id": "9fd93e46-5d56-4797-910d-931070199b64",
   "metadata": {},
   "source": [
    "### Training"
   ]
  },
  {
   "cell_type": "markdown",
   "id": "1b4eb76f-face-422a-bf97-dbd10f6a2965",
   "metadata": {},
   "source": [
    "#### Prepare training dataset by joining label data with features\n",
    "\n",
    "following SQL will joining all features with label that contains which transaction is fraud, the query result will be used as the training dataset\n",
    "\n",
    "In the following sample, we run a proton query and turn the query result into a pandas dataframe"
   ]
  },
  {
   "cell_type": "code",
   "execution_count": 61,
   "id": "d98fcb21-d774-469f-a777-f29fb76d9a58",
   "metadata": {},
   "outputs": [
    {
     "data": {
      "text/html": [
       "<div>\n",
       "<style scoped>\n",
       "    .dataframe tbody tr th:only-of-type {\n",
       "        vertical-align: middle;\n",
       "    }\n",
       "\n",
       "    .dataframe tbody tr th {\n",
       "        vertical-align: top;\n",
       "    }\n",
       "\n",
       "    .dataframe thead th {\n",
       "        text-align: right;\n",
       "    }\n",
       "</style>\n",
       "<table border=\"1\" class=\"dataframe\">\n",
       "  <thead>\n",
       "    <tr style=\"text-align: right;\">\n",
       "      <th></th>\n",
       "      <th>type</th>\n",
       "      <th>amount</th>\n",
       "      <th>previous_amount</th>\n",
       "      <th>time_to_last_transaction</th>\n",
       "      <th>transaction_count_1m</th>\n",
       "      <th>max_transaction_amount_1m</th>\n",
       "      <th>avg_transaction_amount_1m</th>\n",
       "      <th>distinct_transaction_target_count_5m</th>\n",
       "      <th>avg_transaction_count_1d</th>\n",
       "      <th>avg_max_transaction_count_1d</th>\n",
       "      <th>is_fraud</th>\n",
       "    </tr>\n",
       "  </thead>\n",
       "  <tbody>\n",
       "    <tr>\n",
       "      <th>0</th>\n",
       "      <td>TRANSFER</td>\n",
       "      <td>2.75</td>\n",
       "      <td>46.09</td>\n",
       "      <td>1360</td>\n",
       "      <td>1</td>\n",
       "      <td>46.09</td>\n",
       "      <td>46.09</td>\n",
       "      <td>2</td>\n",
       "      <td>0.0</td>\n",
       "      <td>0.0</td>\n",
       "      <td>False</td>\n",
       "    </tr>\n",
       "    <tr>\n",
       "      <th>1</th>\n",
       "      <td>CASH_OUT</td>\n",
       "      <td>160.84</td>\n",
       "      <td>0.00</td>\n",
       "      <td>0</td>\n",
       "      <td>0</td>\n",
       "      <td>0.00</td>\n",
       "      <td>0.00</td>\n",
       "      <td>0</td>\n",
       "      <td>0.0</td>\n",
       "      <td>0.0</td>\n",
       "      <td>False</td>\n",
       "    </tr>\n",
       "    <tr>\n",
       "      <th>2</th>\n",
       "      <td>TRANSFER</td>\n",
       "      <td>875.51</td>\n",
       "      <td>0.00</td>\n",
       "      <td>0</td>\n",
       "      <td>0</td>\n",
       "      <td>0.00</td>\n",
       "      <td>0.00</td>\n",
       "      <td>0</td>\n",
       "      <td>0.0</td>\n",
       "      <td>0.0</td>\n",
       "      <td>False</td>\n",
       "    </tr>\n",
       "    <tr>\n",
       "      <th>3</th>\n",
       "      <td>PAYMENT</td>\n",
       "      <td>2586.83</td>\n",
       "      <td>0.00</td>\n",
       "      <td>0</td>\n",
       "      <td>0</td>\n",
       "      <td>0.00</td>\n",
       "      <td>0.00</td>\n",
       "      <td>0</td>\n",
       "      <td>0.0</td>\n",
       "      <td>0.0</td>\n",
       "      <td>False</td>\n",
       "    </tr>\n",
       "    <tr>\n",
       "      <th>4</th>\n",
       "      <td>CASH_OUT</td>\n",
       "      <td>792.87</td>\n",
       "      <td>0.00</td>\n",
       "      <td>0</td>\n",
       "      <td>0</td>\n",
       "      <td>0.00</td>\n",
       "      <td>0.00</td>\n",
       "      <td>0</td>\n",
       "      <td>0.0</td>\n",
       "      <td>0.0</td>\n",
       "      <td>False</td>\n",
       "    </tr>\n",
       "  </tbody>\n",
       "</table>\n",
       "</div>"
      ],
      "text/plain": [
       "       type   amount  previous_amount  time_to_last_transaction  \\\n",
       "0  TRANSFER     2.75            46.09                      1360   \n",
       "1  CASH_OUT   160.84             0.00                         0   \n",
       "2  TRANSFER   875.51             0.00                         0   \n",
       "3   PAYMENT  2586.83             0.00                         0   \n",
       "4  CASH_OUT   792.87             0.00                         0   \n",
       "\n",
       "   transaction_count_1m  max_transaction_amount_1m  avg_transaction_amount_1m  \\\n",
       "0                     1                      46.09                      46.09   \n",
       "1                     0                       0.00                       0.00   \n",
       "2                     0                       0.00                       0.00   \n",
       "3                     0                       0.00                       0.00   \n",
       "4                     0                       0.00                       0.00   \n",
       "\n",
       "   distinct_transaction_target_count_5m  avg_transaction_count_1d  \\\n",
       "0                                     2                       0.0   \n",
       "1                                     0                       0.0   \n",
       "2                                     0                       0.0   \n",
       "3                                     0                       0.0   \n",
       "4                                     0                       0.0   \n",
       "\n",
       "   avg_max_transaction_count_1d  is_fraud  \n",
       "0                           0.0     False  \n",
       "1                           0.0     False  \n",
       "2                           0.0     False  \n",
       "3                           0.0     False  \n",
       "4                           0.0     False  "
      ]
     },
     "execution_count": 61,
     "metadata": {},
     "output_type": "execute_result"
    }
   ],
   "source": [
    "import pandas as pd\n",
    "\n",
    "sql_feature_with_lable = '''\n",
    "SELECT \n",
    "  *\n",
    "FROM \n",
    "  table(mv_fraud_all_features) as f\n",
    "LEFT JOIN table(online_payments_label) as l ON f.id = l.id\n",
    "LIMIT 100000\n",
    "'''\n",
    "\n",
    "rows = c.execute_iter(sql_feature_with_lable, with_column_types=True)\n",
    "header = next(rows)\n",
    "query_result = []\n",
    "for r in rows:\n",
    "    query_result.append(r)\n",
    "    \n",
    "columns = [ f[0] for f in header]\n",
    "df = pd.DataFrame(query_result, columns=columns)\n",
    "df_train = df[['type', 'amount', 'previous_amount', \n",
    "'time_to_last_transaction', 'transaction_count_1m', 'max_transaction_amount_1m',\n",
    "'avg_transaction_amount_1m','distinct_transaction_target_count_5m','avg_transaction_count_1d',\n",
    "'avg_max_transaction_count_1d','is_fraud']]\n",
    "\n",
    "df_train.head(5)"
   ]
  },
  {
   "cell_type": "markdown",
   "id": "c341f53c-9875-4bfc-9afc-d514b548a859",
   "metadata": {},
   "source": [
    "#### setup training enironment using pycaret\n",
    "\n",
    "PyCaret is an open-source, low-code machine learning library in Python that automates machine learning workflows\n",
    "\n",
    "In the following code, we use pycaret to train a classiciation model used for predict if the transaction is fraud or not"
   ]
  },
  {
   "cell_type": "code",
   "execution_count": 62,
   "id": "12d5e67f-b8bd-45ee-abd6-c8e52526162a",
   "metadata": {},
   "outputs": [
    {
     "data": {
      "text/html": [
       "<style type=\"text/css\">\n",
       "#T_b6e33_row9_col1 {\n",
       "  background-color: lightgreen;\n",
       "}\n",
       "</style>\n",
       "<table id=\"T_b6e33\">\n",
       "  <thead>\n",
       "    <tr>\n",
       "      <th class=\"blank level0\" >&nbsp;</th>\n",
       "      <th id=\"T_b6e33_level0_col0\" class=\"col_heading level0 col0\" >Description</th>\n",
       "      <th id=\"T_b6e33_level0_col1\" class=\"col_heading level0 col1\" >Value</th>\n",
       "    </tr>\n",
       "  </thead>\n",
       "  <tbody>\n",
       "    <tr>\n",
       "      <th id=\"T_b6e33_level0_row0\" class=\"row_heading level0 row0\" >0</th>\n",
       "      <td id=\"T_b6e33_row0_col0\" class=\"data row0 col0\" >Session id</td>\n",
       "      <td id=\"T_b6e33_row0_col1\" class=\"data row0 col1\" >123</td>\n",
       "    </tr>\n",
       "    <tr>\n",
       "      <th id=\"T_b6e33_level0_row1\" class=\"row_heading level0 row1\" >1</th>\n",
       "      <td id=\"T_b6e33_row1_col0\" class=\"data row1 col0\" >Target</td>\n",
       "      <td id=\"T_b6e33_row1_col1\" class=\"data row1 col1\" >is_fraud</td>\n",
       "    </tr>\n",
       "    <tr>\n",
       "      <th id=\"T_b6e33_level0_row2\" class=\"row_heading level0 row2\" >2</th>\n",
       "      <td id=\"T_b6e33_row2_col0\" class=\"data row2 col0\" >Target type</td>\n",
       "      <td id=\"T_b6e33_row2_col1\" class=\"data row2 col1\" >Binary</td>\n",
       "    </tr>\n",
       "    <tr>\n",
       "      <th id=\"T_b6e33_level0_row3\" class=\"row_heading level0 row3\" >3</th>\n",
       "      <td id=\"T_b6e33_row3_col0\" class=\"data row3 col0\" >Original data shape</td>\n",
       "      <td id=\"T_b6e33_row3_col1\" class=\"data row3 col1\" >(40217, 11)</td>\n",
       "    </tr>\n",
       "    <tr>\n",
       "      <th id=\"T_b6e33_level0_row4\" class=\"row_heading level0 row4\" >4</th>\n",
       "      <td id=\"T_b6e33_row4_col0\" class=\"data row4 col0\" >Transformed data shape</td>\n",
       "      <td id=\"T_b6e33_row4_col1\" class=\"data row4 col1\" >(40217, 13)</td>\n",
       "    </tr>\n",
       "    <tr>\n",
       "      <th id=\"T_b6e33_level0_row5\" class=\"row_heading level0 row5\" >5</th>\n",
       "      <td id=\"T_b6e33_row5_col0\" class=\"data row5 col0\" >Transformed train set shape</td>\n",
       "      <td id=\"T_b6e33_row5_col1\" class=\"data row5 col1\" >(28151, 13)</td>\n",
       "    </tr>\n",
       "    <tr>\n",
       "      <th id=\"T_b6e33_level0_row6\" class=\"row_heading level0 row6\" >6</th>\n",
       "      <td id=\"T_b6e33_row6_col0\" class=\"data row6 col0\" >Transformed test set shape</td>\n",
       "      <td id=\"T_b6e33_row6_col1\" class=\"data row6 col1\" >(12066, 13)</td>\n",
       "    </tr>\n",
       "    <tr>\n",
       "      <th id=\"T_b6e33_level0_row7\" class=\"row_heading level0 row7\" >7</th>\n",
       "      <td id=\"T_b6e33_row7_col0\" class=\"data row7 col0\" >Numeric features</td>\n",
       "      <td id=\"T_b6e33_row7_col1\" class=\"data row7 col1\" >9</td>\n",
       "    </tr>\n",
       "    <tr>\n",
       "      <th id=\"T_b6e33_level0_row8\" class=\"row_heading level0 row8\" >8</th>\n",
       "      <td id=\"T_b6e33_row8_col0\" class=\"data row8 col0\" >Categorical features</td>\n",
       "      <td id=\"T_b6e33_row8_col1\" class=\"data row8 col1\" >1</td>\n",
       "    </tr>\n",
       "    <tr>\n",
       "      <th id=\"T_b6e33_level0_row9\" class=\"row_heading level0 row9\" >9</th>\n",
       "      <td id=\"T_b6e33_row9_col0\" class=\"data row9 col0\" >Preprocess</td>\n",
       "      <td id=\"T_b6e33_row9_col1\" class=\"data row9 col1\" >True</td>\n",
       "    </tr>\n",
       "    <tr>\n",
       "      <th id=\"T_b6e33_level0_row10\" class=\"row_heading level0 row10\" >10</th>\n",
       "      <td id=\"T_b6e33_row10_col0\" class=\"data row10 col0\" >Imputation type</td>\n",
       "      <td id=\"T_b6e33_row10_col1\" class=\"data row10 col1\" >simple</td>\n",
       "    </tr>\n",
       "    <tr>\n",
       "      <th id=\"T_b6e33_level0_row11\" class=\"row_heading level0 row11\" >11</th>\n",
       "      <td id=\"T_b6e33_row11_col0\" class=\"data row11 col0\" >Numeric imputation</td>\n",
       "      <td id=\"T_b6e33_row11_col1\" class=\"data row11 col1\" >mean</td>\n",
       "    </tr>\n",
       "    <tr>\n",
       "      <th id=\"T_b6e33_level0_row12\" class=\"row_heading level0 row12\" >12</th>\n",
       "      <td id=\"T_b6e33_row12_col0\" class=\"data row12 col0\" >Categorical imputation</td>\n",
       "      <td id=\"T_b6e33_row12_col1\" class=\"data row12 col1\" >mode</td>\n",
       "    </tr>\n",
       "    <tr>\n",
       "      <th id=\"T_b6e33_level0_row13\" class=\"row_heading level0 row13\" >13</th>\n",
       "      <td id=\"T_b6e33_row13_col0\" class=\"data row13 col0\" >Maximum one-hot encoding</td>\n",
       "      <td id=\"T_b6e33_row13_col1\" class=\"data row13 col1\" >25</td>\n",
       "    </tr>\n",
       "    <tr>\n",
       "      <th id=\"T_b6e33_level0_row14\" class=\"row_heading level0 row14\" >14</th>\n",
       "      <td id=\"T_b6e33_row14_col0\" class=\"data row14 col0\" >Encoding method</td>\n",
       "      <td id=\"T_b6e33_row14_col1\" class=\"data row14 col1\" >None</td>\n",
       "    </tr>\n",
       "    <tr>\n",
       "      <th id=\"T_b6e33_level0_row15\" class=\"row_heading level0 row15\" >15</th>\n",
       "      <td id=\"T_b6e33_row15_col0\" class=\"data row15 col0\" >Fold Generator</td>\n",
       "      <td id=\"T_b6e33_row15_col1\" class=\"data row15 col1\" >StratifiedKFold</td>\n",
       "    </tr>\n",
       "    <tr>\n",
       "      <th id=\"T_b6e33_level0_row16\" class=\"row_heading level0 row16\" >16</th>\n",
       "      <td id=\"T_b6e33_row16_col0\" class=\"data row16 col0\" >Fold Number</td>\n",
       "      <td id=\"T_b6e33_row16_col1\" class=\"data row16 col1\" >10</td>\n",
       "    </tr>\n",
       "    <tr>\n",
       "      <th id=\"T_b6e33_level0_row17\" class=\"row_heading level0 row17\" >17</th>\n",
       "      <td id=\"T_b6e33_row17_col0\" class=\"data row17 col0\" >CPU Jobs</td>\n",
       "      <td id=\"T_b6e33_row17_col1\" class=\"data row17 col1\" >-1</td>\n",
       "    </tr>\n",
       "    <tr>\n",
       "      <th id=\"T_b6e33_level0_row18\" class=\"row_heading level0 row18\" >18</th>\n",
       "      <td id=\"T_b6e33_row18_col0\" class=\"data row18 col0\" >Use GPU</td>\n",
       "      <td id=\"T_b6e33_row18_col1\" class=\"data row18 col1\" >False</td>\n",
       "    </tr>\n",
       "    <tr>\n",
       "      <th id=\"T_b6e33_level0_row19\" class=\"row_heading level0 row19\" >19</th>\n",
       "      <td id=\"T_b6e33_row19_col0\" class=\"data row19 col0\" >Log Experiment</td>\n",
       "      <td id=\"T_b6e33_row19_col1\" class=\"data row19 col1\" >False</td>\n",
       "    </tr>\n",
       "    <tr>\n",
       "      <th id=\"T_b6e33_level0_row20\" class=\"row_heading level0 row20\" >20</th>\n",
       "      <td id=\"T_b6e33_row20_col0\" class=\"data row20 col0\" >Experiment Name</td>\n",
       "      <td id=\"T_b6e33_row20_col1\" class=\"data row20 col1\" >clf-default-name</td>\n",
       "    </tr>\n",
       "    <tr>\n",
       "      <th id=\"T_b6e33_level0_row21\" class=\"row_heading level0 row21\" >21</th>\n",
       "      <td id=\"T_b6e33_row21_col0\" class=\"data row21 col0\" >USI</td>\n",
       "      <td id=\"T_b6e33_row21_col1\" class=\"data row21 col1\" >20e0</td>\n",
       "    </tr>\n",
       "  </tbody>\n",
       "</table>\n"
      ],
      "text/plain": [
       "<pandas.io.formats.style.Styler at 0x7f29211595d0>"
      ]
     },
     "metadata": {},
     "output_type": "display_data"
    }
   ],
   "source": [
    "from pycaret.classification import *\n",
    "s = setup(data = df_train, target = 'is_fraud', session_id = 123)"
   ]
  },
  {
   "cell_type": "code",
   "execution_count": 64,
   "id": "42ba88e2-02d9-452d-b9cd-b5a95d5f7d09",
   "metadata": {},
   "outputs": [
    {
     "data": {
      "text/html": [],
      "text/plain": [
       "<IPython.core.display.HTML object>"
      ]
     },
     "metadata": {},
     "output_type": "display_data"
    },
    {
     "data": {
      "text/html": [
       "<style type=\"text/css\">\n",
       "#T_1f9aa th {\n",
       "  text-align: left;\n",
       "}\n",
       "#T_1f9aa_row0_col0, #T_1f9aa_row0_col4, #T_1f9aa_row1_col0, #T_1f9aa_row1_col1, #T_1f9aa_row1_col2, #T_1f9aa_row1_col3, #T_1f9aa_row1_col4, #T_1f9aa_row1_col5, #T_1f9aa_row1_col6, #T_1f9aa_row1_col7, #T_1f9aa_row2_col0, #T_1f9aa_row2_col1, #T_1f9aa_row2_col2, #T_1f9aa_row2_col3, #T_1f9aa_row2_col4, #T_1f9aa_row2_col5, #T_1f9aa_row2_col6, #T_1f9aa_row2_col7, #T_1f9aa_row3_col0, #T_1f9aa_row3_col1, #T_1f9aa_row3_col2, #T_1f9aa_row3_col3, #T_1f9aa_row3_col4, #T_1f9aa_row3_col5, #T_1f9aa_row3_col6, #T_1f9aa_row3_col7, #T_1f9aa_row4_col0, #T_1f9aa_row4_col1, #T_1f9aa_row4_col2, #T_1f9aa_row4_col3, #T_1f9aa_row4_col4, #T_1f9aa_row4_col5, #T_1f9aa_row4_col6, #T_1f9aa_row4_col7, #T_1f9aa_row5_col0, #T_1f9aa_row5_col1, #T_1f9aa_row5_col2, #T_1f9aa_row5_col3, #T_1f9aa_row5_col4, #T_1f9aa_row5_col5, #T_1f9aa_row5_col6, #T_1f9aa_row5_col7, #T_1f9aa_row6_col0, #T_1f9aa_row6_col1, #T_1f9aa_row6_col2, #T_1f9aa_row6_col3, #T_1f9aa_row6_col4, #T_1f9aa_row6_col5, #T_1f9aa_row6_col6, #T_1f9aa_row6_col7, #T_1f9aa_row7_col0, #T_1f9aa_row7_col1, #T_1f9aa_row7_col2, #T_1f9aa_row7_col3, #T_1f9aa_row7_col4, #T_1f9aa_row7_col5, #T_1f9aa_row7_col6, #T_1f9aa_row7_col7, #T_1f9aa_row8_col0, #T_1f9aa_row8_col1, #T_1f9aa_row8_col2, #T_1f9aa_row8_col3, #T_1f9aa_row8_col5, #T_1f9aa_row8_col6, #T_1f9aa_row8_col7, #T_1f9aa_row9_col0, #T_1f9aa_row9_col1, #T_1f9aa_row9_col2, #T_1f9aa_row9_col3, #T_1f9aa_row9_col4, #T_1f9aa_row9_col5, #T_1f9aa_row9_col6, #T_1f9aa_row9_col7, #T_1f9aa_row10_col0, #T_1f9aa_row10_col1, #T_1f9aa_row10_col2, #T_1f9aa_row10_col3, #T_1f9aa_row10_col4, #T_1f9aa_row10_col5, #T_1f9aa_row10_col6, #T_1f9aa_row10_col7, #T_1f9aa_row11_col0, #T_1f9aa_row11_col1, #T_1f9aa_row11_col2, #T_1f9aa_row11_col3, #T_1f9aa_row11_col4, #T_1f9aa_row11_col5, #T_1f9aa_row11_col6, #T_1f9aa_row11_col7, #T_1f9aa_row12_col0, #T_1f9aa_row12_col1, #T_1f9aa_row12_col2, #T_1f9aa_row12_col3, #T_1f9aa_row12_col4, #T_1f9aa_row12_col5, #T_1f9aa_row12_col6, #T_1f9aa_row12_col7, #T_1f9aa_row13_col0, #T_1f9aa_row13_col1, #T_1f9aa_row13_col2, #T_1f9aa_row13_col3, #T_1f9aa_row13_col4, #T_1f9aa_row13_col5, #T_1f9aa_row13_col6, #T_1f9aa_row13_col7 {\n",
       "  text-align: left;\n",
       "}\n",
       "#T_1f9aa_row0_col1, #T_1f9aa_row0_col2, #T_1f9aa_row0_col3, #T_1f9aa_row0_col5, #T_1f9aa_row0_col6, #T_1f9aa_row0_col7, #T_1f9aa_row8_col4 {\n",
       "  text-align: left;\n",
       "  background-color: yellow;\n",
       "}\n",
       "#T_1f9aa_row0_col8, #T_1f9aa_row1_col8, #T_1f9aa_row2_col8, #T_1f9aa_row3_col8, #T_1f9aa_row4_col8, #T_1f9aa_row5_col8, #T_1f9aa_row6_col8, #T_1f9aa_row7_col8, #T_1f9aa_row8_col8, #T_1f9aa_row9_col8, #T_1f9aa_row10_col8, #T_1f9aa_row11_col8, #T_1f9aa_row12_col8 {\n",
       "  text-align: left;\n",
       "  background-color: lightgrey;\n",
       "}\n",
       "#T_1f9aa_row13_col8 {\n",
       "  text-align: left;\n",
       "  background-color: yellow;\n",
       "  background-color: lightgrey;\n",
       "}\n",
       "</style>\n",
       "<table id=\"T_1f9aa\">\n",
       "  <thead>\n",
       "    <tr>\n",
       "      <th class=\"blank level0\" >&nbsp;</th>\n",
       "      <th id=\"T_1f9aa_level0_col0\" class=\"col_heading level0 col0\" >Model</th>\n",
       "      <th id=\"T_1f9aa_level0_col1\" class=\"col_heading level0 col1\" >Accuracy</th>\n",
       "      <th id=\"T_1f9aa_level0_col2\" class=\"col_heading level0 col2\" >AUC</th>\n",
       "      <th id=\"T_1f9aa_level0_col3\" class=\"col_heading level0 col3\" >Recall</th>\n",
       "      <th id=\"T_1f9aa_level0_col4\" class=\"col_heading level0 col4\" >Prec.</th>\n",
       "      <th id=\"T_1f9aa_level0_col5\" class=\"col_heading level0 col5\" >F1</th>\n",
       "      <th id=\"T_1f9aa_level0_col6\" class=\"col_heading level0 col6\" >Kappa</th>\n",
       "      <th id=\"T_1f9aa_level0_col7\" class=\"col_heading level0 col7\" >MCC</th>\n",
       "      <th id=\"T_1f9aa_level0_col8\" class=\"col_heading level0 col8\" >TT (Sec)</th>\n",
       "    </tr>\n",
       "  </thead>\n",
       "  <tbody>\n",
       "    <tr>\n",
       "      <th id=\"T_1f9aa_level0_row0\" class=\"row_heading level0 row0\" >lightgbm</th>\n",
       "      <td id=\"T_1f9aa_row0_col0\" class=\"data row0 col0\" >Light Gradient Boosting Machine</td>\n",
       "      <td id=\"T_1f9aa_row0_col1\" class=\"data row0 col1\" >0.9925</td>\n",
       "      <td id=\"T_1f9aa_row0_col2\" class=\"data row0 col2\" >0.9954</td>\n",
       "      <td id=\"T_1f9aa_row0_col3\" class=\"data row0 col3\" >0.9033</td>\n",
       "      <td id=\"T_1f9aa_row0_col4\" class=\"data row0 col4\" >0.9258</td>\n",
       "      <td id=\"T_1f9aa_row0_col5\" class=\"data row0 col5\" >0.9141</td>\n",
       "      <td id=\"T_1f9aa_row0_col6\" class=\"data row0 col6\" >0.9102</td>\n",
       "      <td id=\"T_1f9aa_row0_col7\" class=\"data row0 col7\" >0.9104</td>\n",
       "      <td id=\"T_1f9aa_row0_col8\" class=\"data row0 col8\" >1.2670</td>\n",
       "    </tr>\n",
       "    <tr>\n",
       "      <th id=\"T_1f9aa_level0_row1\" class=\"row_heading level0 row1\" >gbc</th>\n",
       "      <td id=\"T_1f9aa_row1_col0\" class=\"data row1 col0\" >Gradient Boosting Classifier</td>\n",
       "      <td id=\"T_1f9aa_row1_col1\" class=\"data row1 col1\" >0.9917</td>\n",
       "      <td id=\"T_1f9aa_row1_col2\" class=\"data row1 col2\" >0.9951</td>\n",
       "      <td id=\"T_1f9aa_row1_col3\" class=\"data row1 col3\" >0.8777</td>\n",
       "      <td id=\"T_1f9aa_row1_col4\" class=\"data row1 col4\" >0.9304</td>\n",
       "      <td id=\"T_1f9aa_row1_col5\" class=\"data row1 col5\" >0.9032</td>\n",
       "      <td id=\"T_1f9aa_row1_col6\" class=\"data row1 col6\" >0.8988</td>\n",
       "      <td id=\"T_1f9aa_row1_col7\" class=\"data row1 col7\" >0.8993</td>\n",
       "      <td id=\"T_1f9aa_row1_col8\" class=\"data row1 col8\" >0.6060</td>\n",
       "    </tr>\n",
       "    <tr>\n",
       "      <th id=\"T_1f9aa_level0_row2\" class=\"row_heading level0 row2\" >rf</th>\n",
       "      <td id=\"T_1f9aa_row2_col0\" class=\"data row2 col0\" >Random Forest Classifier</td>\n",
       "      <td id=\"T_1f9aa_row2_col1\" class=\"data row2 col1\" >0.9903</td>\n",
       "      <td id=\"T_1f9aa_row2_col2\" class=\"data row2 col2\" >0.9745</td>\n",
       "      <td id=\"T_1f9aa_row2_col3\" class=\"data row2 col3\" >0.8889</td>\n",
       "      <td id=\"T_1f9aa_row2_col4\" class=\"data row2 col4\" >0.8928</td>\n",
       "      <td id=\"T_1f9aa_row2_col5\" class=\"data row2 col5\" >0.8906</td>\n",
       "      <td id=\"T_1f9aa_row2_col6\" class=\"data row2 col6\" >0.8856</td>\n",
       "      <td id=\"T_1f9aa_row2_col7\" class=\"data row2 col7\" >0.8857</td>\n",
       "      <td id=\"T_1f9aa_row2_col8\" class=\"data row2 col8\" >0.3600</td>\n",
       "    </tr>\n",
       "    <tr>\n",
       "      <th id=\"T_1f9aa_level0_row3\" class=\"row_heading level0 row3\" >et</th>\n",
       "      <td id=\"T_1f9aa_row3_col0\" class=\"data row3 col0\" >Extra Trees Classifier</td>\n",
       "      <td id=\"T_1f9aa_row3_col1\" class=\"data row3 col1\" >0.9899</td>\n",
       "      <td id=\"T_1f9aa_row3_col2\" class=\"data row3 col2\" >0.9608</td>\n",
       "      <td id=\"T_1f9aa_row3_col3\" class=\"data row3 col3\" >0.8825</td>\n",
       "      <td id=\"T_1f9aa_row3_col4\" class=\"data row3 col4\" >0.8903</td>\n",
       "      <td id=\"T_1f9aa_row3_col5\" class=\"data row3 col5\" >0.8860</td>\n",
       "      <td id=\"T_1f9aa_row3_col6\" class=\"data row3 col6\" >0.8808</td>\n",
       "      <td id=\"T_1f9aa_row3_col7\" class=\"data row3 col7\" >0.8810</td>\n",
       "      <td id=\"T_1f9aa_row3_col8\" class=\"data row3 col8\" >0.2430</td>\n",
       "    </tr>\n",
       "    <tr>\n",
       "      <th id=\"T_1f9aa_level0_row4\" class=\"row_heading level0 row4\" >dt</th>\n",
       "      <td id=\"T_1f9aa_row4_col0\" class=\"data row4 col0\" >Decision Tree Classifier</td>\n",
       "      <td id=\"T_1f9aa_row4_col1\" class=\"data row4 col1\" >0.9892</td>\n",
       "      <td id=\"T_1f9aa_row4_col2\" class=\"data row4 col2\" >0.9387</td>\n",
       "      <td id=\"T_1f9aa_row4_col3\" class=\"data row4 col3\" >0.8825</td>\n",
       "      <td id=\"T_1f9aa_row4_col4\" class=\"data row4 col4\" >0.8759</td>\n",
       "      <td id=\"T_1f9aa_row4_col5\" class=\"data row4 col5\" >0.8789</td>\n",
       "      <td id=\"T_1f9aa_row4_col6\" class=\"data row4 col6\" >0.8732</td>\n",
       "      <td id=\"T_1f9aa_row4_col7\" class=\"data row4 col7\" >0.8734</td>\n",
       "      <td id=\"T_1f9aa_row4_col8\" class=\"data row4 col8\" >0.0400</td>\n",
       "    </tr>\n",
       "    <tr>\n",
       "      <th id=\"T_1f9aa_level0_row5\" class=\"row_heading level0 row5\" >ada</th>\n",
       "      <td id=\"T_1f9aa_row5_col0\" class=\"data row5 col0\" >Ada Boost Classifier</td>\n",
       "      <td id=\"T_1f9aa_row5_col1\" class=\"data row5 col1\" >0.9879</td>\n",
       "      <td id=\"T_1f9aa_row5_col2\" class=\"data row5 col2\" >0.9935</td>\n",
       "      <td id=\"T_1f9aa_row5_col3\" class=\"data row5 col3\" >0.8105</td>\n",
       "      <td id=\"T_1f9aa_row5_col4\" class=\"data row5 col4\" >0.9062</td>\n",
       "      <td id=\"T_1f9aa_row5_col5\" class=\"data row5 col5\" >0.8553</td>\n",
       "      <td id=\"T_1f9aa_row5_col6\" class=\"data row5 col6\" >0.8490</td>\n",
       "      <td id=\"T_1f9aa_row5_col7\" class=\"data row5 col7\" >0.8507</td>\n",
       "      <td id=\"T_1f9aa_row5_col8\" class=\"data row5 col8\" >0.2050</td>\n",
       "    </tr>\n",
       "    <tr>\n",
       "      <th id=\"T_1f9aa_level0_row6\" class=\"row_heading level0 row6\" >knn</th>\n",
       "      <td id=\"T_1f9aa_row6_col0\" class=\"data row6 col0\" >K Neighbors Classifier</td>\n",
       "      <td id=\"T_1f9aa_row6_col1\" class=\"data row6 col1\" >0.9871</td>\n",
       "      <td id=\"T_1f9aa_row6_col2\" class=\"data row6 col2\" >0.9569</td>\n",
       "      <td id=\"T_1f9aa_row6_col3\" class=\"data row6 col3\" >0.8265</td>\n",
       "      <td id=\"T_1f9aa_row6_col4\" class=\"data row6 col4\" >0.8775</td>\n",
       "      <td id=\"T_1f9aa_row6_col5\" class=\"data row6 col5\" >0.8509</td>\n",
       "      <td id=\"T_1f9aa_row6_col6\" class=\"data row6 col6\" >0.8442</td>\n",
       "      <td id=\"T_1f9aa_row6_col7\" class=\"data row6 col7\" >0.8448</td>\n",
       "      <td id=\"T_1f9aa_row6_col8\" class=\"data row6 col8\" >0.0720</td>\n",
       "    </tr>\n",
       "    <tr>\n",
       "      <th id=\"T_1f9aa_level0_row7\" class=\"row_heading level0 row7\" >lr</th>\n",
       "      <td id=\"T_1f9aa_row7_col0\" class=\"data row7 col0\" >Logistic Regression</td>\n",
       "      <td id=\"T_1f9aa_row7_col1\" class=\"data row7 col1\" >0.9795</td>\n",
       "      <td id=\"T_1f9aa_row7_col2\" class=\"data row7 col2\" >0.8637</td>\n",
       "      <td id=\"T_1f9aa_row7_col3\" class=\"data row7 col3\" >0.5619</td>\n",
       "      <td id=\"T_1f9aa_row7_col4\" class=\"data row7 col4\" >0.9621</td>\n",
       "      <td id=\"T_1f9aa_row7_col5\" class=\"data row7 col5\" >0.7091</td>\n",
       "      <td id=\"T_1f9aa_row7_col6\" class=\"data row7 col6\" >0.6993</td>\n",
       "      <td id=\"T_1f9aa_row7_col7\" class=\"data row7 col7\" >0.7267</td>\n",
       "      <td id=\"T_1f9aa_row7_col8\" class=\"data row7 col8\" >0.3400</td>\n",
       "    </tr>\n",
       "    <tr>\n",
       "      <th id=\"T_1f9aa_level0_row8\" class=\"row_heading level0 row8\" >ridge</th>\n",
       "      <td id=\"T_1f9aa_row8_col0\" class=\"data row8 col0\" >Ridge Classifier</td>\n",
       "      <td id=\"T_1f9aa_row8_col1\" class=\"data row8 col1\" >0.9793</td>\n",
       "      <td id=\"T_1f9aa_row8_col2\" class=\"data row8 col2\" >0.0000</td>\n",
       "      <td id=\"T_1f9aa_row8_col3\" class=\"data row8 col3\" >0.5539</td>\n",
       "      <td id=\"T_1f9aa_row8_col4\" class=\"data row8 col4\" >0.9636</td>\n",
       "      <td id=\"T_1f9aa_row8_col5\" class=\"data row8 col5\" >0.7033</td>\n",
       "      <td id=\"T_1f9aa_row8_col6\" class=\"data row8 col6\" >0.6934</td>\n",
       "      <td id=\"T_1f9aa_row8_col7\" class=\"data row8 col7\" >0.7222</td>\n",
       "      <td id=\"T_1f9aa_row8_col8\" class=\"data row8 col8\" >0.0290</td>\n",
       "    </tr>\n",
       "    <tr>\n",
       "      <th id=\"T_1f9aa_level0_row9\" class=\"row_heading level0 row9\" >lda</th>\n",
       "      <td id=\"T_1f9aa_row9_col0\" class=\"data row9 col0\" >Linear Discriminant Analysis</td>\n",
       "      <td id=\"T_1f9aa_row9_col1\" class=\"data row9 col1\" >0.9784</td>\n",
       "      <td id=\"T_1f9aa_row9_col2\" class=\"data row9 col2\" >0.7301</td>\n",
       "      <td id=\"T_1f9aa_row9_col3\" class=\"data row9 col3\" >0.5603</td>\n",
       "      <td id=\"T_1f9aa_row9_col4\" class=\"data row9 col4\" >0.9223</td>\n",
       "      <td id=\"T_1f9aa_row9_col5\" class=\"data row9 col5\" >0.6969</td>\n",
       "      <td id=\"T_1f9aa_row9_col6\" class=\"data row9 col6\" >0.6864</td>\n",
       "      <td id=\"T_1f9aa_row9_col7\" class=\"data row9 col7\" >0.7095</td>\n",
       "      <td id=\"T_1f9aa_row9_col8\" class=\"data row9 col8\" >0.0410</td>\n",
       "    </tr>\n",
       "    <tr>\n",
       "      <th id=\"T_1f9aa_level0_row10\" class=\"row_heading level0 row10\" >svm</th>\n",
       "      <td id=\"T_1f9aa_row10_col0\" class=\"data row10 col0\" >SVM - Linear Kernel</td>\n",
       "      <td id=\"T_1f9aa_row10_col1\" class=\"data row10 col1\" >0.9745</td>\n",
       "      <td id=\"T_1f9aa_row10_col2\" class=\"data row10 col2\" >0.0000</td>\n",
       "      <td id=\"T_1f9aa_row10_col3\" class=\"data row10 col3\" >0.6098</td>\n",
       "      <td id=\"T_1f9aa_row10_col4\" class=\"data row10 col4\" >0.7775</td>\n",
       "      <td id=\"T_1f9aa_row10_col5\" class=\"data row10 col5\" >0.6780</td>\n",
       "      <td id=\"T_1f9aa_row10_col6\" class=\"data row10 col6\" >0.6650</td>\n",
       "      <td id=\"T_1f9aa_row10_col7\" class=\"data row10 col7\" >0.6731</td>\n",
       "      <td id=\"T_1f9aa_row10_col8\" class=\"data row10 col8\" >0.0550</td>\n",
       "    </tr>\n",
       "    <tr>\n",
       "      <th id=\"T_1f9aa_level0_row11\" class=\"row_heading level0 row11\" >qda</th>\n",
       "      <td id=\"T_1f9aa_row11_col0\" class=\"data row11 col0\" >Quadratic Discriminant Analysis</td>\n",
       "      <td id=\"T_1f9aa_row11_col1\" class=\"data row11 col1\" >0.9556</td>\n",
       "      <td id=\"T_1f9aa_row11_col2\" class=\"data row11 col2\" >0.0000</td>\n",
       "      <td id=\"T_1f9aa_row11_col3\" class=\"data row11 col3\" >0.0000</td>\n",
       "      <td id=\"T_1f9aa_row11_col4\" class=\"data row11 col4\" >0.0000</td>\n",
       "      <td id=\"T_1f9aa_row11_col5\" class=\"data row11 col5\" >0.0000</td>\n",
       "      <td id=\"T_1f9aa_row11_col6\" class=\"data row11 col6\" >0.0000</td>\n",
       "      <td id=\"T_1f9aa_row11_col7\" class=\"data row11 col7\" >0.0000</td>\n",
       "      <td id=\"T_1f9aa_row11_col8\" class=\"data row11 col8\" >0.0390</td>\n",
       "    </tr>\n",
       "    <tr>\n",
       "      <th id=\"T_1f9aa_level0_row12\" class=\"row_heading level0 row12\" >dummy</th>\n",
       "      <td id=\"T_1f9aa_row12_col0\" class=\"data row12 col0\" >Dummy Classifier</td>\n",
       "      <td id=\"T_1f9aa_row12_col1\" class=\"data row12 col1\" >0.9556</td>\n",
       "      <td id=\"T_1f9aa_row12_col2\" class=\"data row12 col2\" >0.5000</td>\n",
       "      <td id=\"T_1f9aa_row12_col3\" class=\"data row12 col3\" >0.0000</td>\n",
       "      <td id=\"T_1f9aa_row12_col4\" class=\"data row12 col4\" >0.0000</td>\n",
       "      <td id=\"T_1f9aa_row12_col5\" class=\"data row12 col5\" >0.0000</td>\n",
       "      <td id=\"T_1f9aa_row12_col6\" class=\"data row12 col6\" >0.0000</td>\n",
       "      <td id=\"T_1f9aa_row12_col7\" class=\"data row12 col7\" >0.0000</td>\n",
       "      <td id=\"T_1f9aa_row12_col8\" class=\"data row12 col8\" >0.0300</td>\n",
       "    </tr>\n",
       "    <tr>\n",
       "      <th id=\"T_1f9aa_level0_row13\" class=\"row_heading level0 row13\" >nb</th>\n",
       "      <td id=\"T_1f9aa_row13_col0\" class=\"data row13 col0\" >Naive Bayes</td>\n",
       "      <td id=\"T_1f9aa_row13_col1\" class=\"data row13 col1\" >0.7445</td>\n",
       "      <td id=\"T_1f9aa_row13_col2\" class=\"data row13 col2\" >0.8927</td>\n",
       "      <td id=\"T_1f9aa_row13_col3\" class=\"data row13 col3\" >0.8353</td>\n",
       "      <td id=\"T_1f9aa_row13_col4\" class=\"data row13 col4\" >0.1302</td>\n",
       "      <td id=\"T_1f9aa_row13_col5\" class=\"data row13 col5\" >0.2253</td>\n",
       "      <td id=\"T_1f9aa_row13_col6\" class=\"data row13 col6\" >0.1608</td>\n",
       "      <td id=\"T_1f9aa_row13_col7\" class=\"data row13 col7\" >0.2628</td>\n",
       "      <td id=\"T_1f9aa_row13_col8\" class=\"data row13 col8\" >0.0280</td>\n",
       "    </tr>\n",
       "  </tbody>\n",
       "</table>\n"
      ],
      "text/plain": [
       "<pandas.io.formats.style.Styler at 0x7f29211b9d10>"
      ]
     },
     "metadata": {},
     "output_type": "display_data"
    },
    {
     "data": {
      "text/html": [],
      "text/plain": [
       "<IPython.core.display.HTML object>"
      ]
     },
     "metadata": {},
     "output_type": "display_data"
    }
   ],
   "source": [
    "best_model = compare_models()"
   ]
  },
  {
   "cell_type": "code",
   "execution_count": 65,
   "id": "94fa94a5-cc20-4bc0-8936-6de706c406fc",
   "metadata": {},
   "outputs": [
    {
     "data": {
      "text/html": [
       "<style>#sk-container-id-2 {color: black;background-color: white;}#sk-container-id-2 pre{padding: 0;}#sk-container-id-2 div.sk-toggleable {background-color: white;}#sk-container-id-2 label.sk-toggleable__label {cursor: pointer;display: block;width: 100%;margin-bottom: 0;padding: 0.3em;box-sizing: border-box;text-align: center;}#sk-container-id-2 label.sk-toggleable__label-arrow:before {content: \"▸\";float: left;margin-right: 0.25em;color: #696969;}#sk-container-id-2 label.sk-toggleable__label-arrow:hover:before {color: black;}#sk-container-id-2 div.sk-estimator:hover label.sk-toggleable__label-arrow:before {color: black;}#sk-container-id-2 div.sk-toggleable__content {max-height: 0;max-width: 0;overflow: hidden;text-align: left;background-color: #f0f8ff;}#sk-container-id-2 div.sk-toggleable__content pre {margin: 0.2em;color: black;border-radius: 0.25em;background-color: #f0f8ff;}#sk-container-id-2 input.sk-toggleable__control:checked~div.sk-toggleable__content {max-height: 200px;max-width: 100%;overflow: auto;}#sk-container-id-2 input.sk-toggleable__control:checked~label.sk-toggleable__label-arrow:before {content: \"▾\";}#sk-container-id-2 div.sk-estimator input.sk-toggleable__control:checked~label.sk-toggleable__label {background-color: #d4ebff;}#sk-container-id-2 div.sk-label input.sk-toggleable__control:checked~label.sk-toggleable__label {background-color: #d4ebff;}#sk-container-id-2 input.sk-hidden--visually {border: 0;clip: rect(1px 1px 1px 1px);clip: rect(1px, 1px, 1px, 1px);height: 1px;margin: -1px;overflow: hidden;padding: 0;position: absolute;width: 1px;}#sk-container-id-2 div.sk-estimator {font-family: monospace;background-color: #f0f8ff;border: 1px dotted black;border-radius: 0.25em;box-sizing: border-box;margin-bottom: 0.5em;}#sk-container-id-2 div.sk-estimator:hover {background-color: #d4ebff;}#sk-container-id-2 div.sk-parallel-item::after {content: \"\";width: 100%;border-bottom: 1px solid gray;flex-grow: 1;}#sk-container-id-2 div.sk-label:hover label.sk-toggleable__label {background-color: #d4ebff;}#sk-container-id-2 div.sk-serial::before {content: \"\";position: absolute;border-left: 1px solid gray;box-sizing: border-box;top: 0;bottom: 0;left: 50%;z-index: 0;}#sk-container-id-2 div.sk-serial {display: flex;flex-direction: column;align-items: center;background-color: white;padding-right: 0.2em;padding-left: 0.2em;position: relative;}#sk-container-id-2 div.sk-item {position: relative;z-index: 1;}#sk-container-id-2 div.sk-parallel {display: flex;align-items: stretch;justify-content: center;background-color: white;position: relative;}#sk-container-id-2 div.sk-item::before, #sk-container-id-2 div.sk-parallel-item::before {content: \"\";position: absolute;border-left: 1px solid gray;box-sizing: border-box;top: 0;bottom: 0;left: 50%;z-index: -1;}#sk-container-id-2 div.sk-parallel-item {display: flex;flex-direction: column;z-index: 1;position: relative;background-color: white;}#sk-container-id-2 div.sk-parallel-item:first-child::after {align-self: flex-end;width: 50%;}#sk-container-id-2 div.sk-parallel-item:last-child::after {align-self: flex-start;width: 50%;}#sk-container-id-2 div.sk-parallel-item:only-child::after {width: 0;}#sk-container-id-2 div.sk-dashed-wrapped {border: 1px dashed gray;margin: 0 0.4em 0.5em 0.4em;box-sizing: border-box;padding-bottom: 0.4em;background-color: white;}#sk-container-id-2 div.sk-label label {font-family: monospace;font-weight: bold;display: inline-block;line-height: 1.2em;}#sk-container-id-2 div.sk-label-container {text-align: center;}#sk-container-id-2 div.sk-container {/* jupyter's `normalize.less` sets `[hidden] { display: none; }` but bootstrap.min.css set `[hidden] { display: none !important; }` so we also need the `!important` here to be able to override the default hidden behavior on the sphinx rendered scikit-learn.org. See: https://github.com/scikit-learn/scikit-learn/issues/21755 */display: inline-block !important;position: relative;}#sk-container-id-2 div.sk-text-repr-fallback {display: none;}</style><div id=\"sk-container-id-2\" class=\"sk-top-container\"><div class=\"sk-text-repr-fallback\"><pre>LGBMClassifier(boosting_type=&#x27;gbdt&#x27;, class_weight=None, colsample_bytree=1.0,\n",
       "               importance_type=&#x27;split&#x27;, learning_rate=0.1, max_depth=-1,\n",
       "               min_child_samples=20, min_child_weight=0.001, min_split_gain=0.0,\n",
       "               n_estimators=100, n_jobs=-1, num_leaves=31, objective=None,\n",
       "               random_state=123, reg_alpha=0.0, reg_lambda=0.0, subsample=1.0,\n",
       "               subsample_for_bin=200000, subsample_freq=0)</pre><b>In a Jupyter environment, please rerun this cell to show the HTML representation or trust the notebook. <br />On GitHub, the HTML representation is unable to render, please try loading this page with nbviewer.org.</b></div><div class=\"sk-container\" hidden><div class=\"sk-item\"><div class=\"sk-estimator sk-toggleable\"><input class=\"sk-toggleable__control sk-hidden--visually\" id=\"sk-estimator-id-2\" type=\"checkbox\" checked><label for=\"sk-estimator-id-2\" class=\"sk-toggleable__label sk-toggleable__label-arrow\">LGBMClassifier</label><div class=\"sk-toggleable__content\"><pre>LGBMClassifier(boosting_type=&#x27;gbdt&#x27;, class_weight=None, colsample_bytree=1.0,\n",
       "               importance_type=&#x27;split&#x27;, learning_rate=0.1, max_depth=-1,\n",
       "               min_child_samples=20, min_child_weight=0.001, min_split_gain=0.0,\n",
       "               n_estimators=100, n_jobs=-1, num_leaves=31, objective=None,\n",
       "               random_state=123, reg_alpha=0.0, reg_lambda=0.0, subsample=1.0,\n",
       "               subsample_for_bin=200000, subsample_freq=0)</pre></div></div></div></div></div>"
      ],
      "text/plain": [
       "LGBMClassifier(boosting_type='gbdt', class_weight=None, colsample_bytree=1.0,\n",
       "               importance_type='split', learning_rate=0.1, max_depth=-1,\n",
       "               min_child_samples=20, min_child_weight=0.001, min_split_gain=0.0,\n",
       "               n_estimators=100, n_jobs=-1, num_leaves=31, objective=None,\n",
       "               random_state=123, reg_alpha=0.0, reg_lambda=0.0, subsample=1.0,\n",
       "               subsample_for_bin=200000, subsample_freq=0)"
      ]
     },
     "execution_count": 65,
     "metadata": {},
     "output_type": "execute_result"
    }
   ],
   "source": [
    "best_model"
   ]
  },
  {
   "cell_type": "code",
   "execution_count": 66,
   "id": "f38b2259-7d64-4763-ae97-f5ee13589660",
   "metadata": {},
   "outputs": [
    {
     "name": "stdout",
     "output_type": "stream",
     "text": [
      "Transformation Pipeline and Model Successfully Saved\n"
     ]
    },
    {
     "data": {
      "text/plain": [
       "(Pipeline(memory=Memory(location=None),\n",
       "          steps=[('numerical_imputer',\n",
       "                  TransformerWrapper(exclude=None,\n",
       "                                     include=['amount', 'previous_amount',\n",
       "                                              'time_to_last_transaction',\n",
       "                                              'transaction_count_1m',\n",
       "                                              'max_transaction_amount_1m',\n",
       "                                              'avg_transaction_amount_1m',\n",
       "                                              'distinct_transaction_target_count_5m',\n",
       "                                              'avg_transaction_count_1d',\n",
       "                                              'avg_max_transaction_count_1d'],\n",
       "                                     transformer=...\n",
       "                  LGBMClassifier(boosting_type='gbdt', class_weight=None,\n",
       "                                 colsample_bytree=1.0, importance_type='split',\n",
       "                                 learning_rate=0.1, max_depth=-1,\n",
       "                                 min_child_samples=20, min_child_weight=0.001,\n",
       "                                 min_split_gain=0.0, n_estimators=100, n_jobs=-1,\n",
       "                                 num_leaves=31, objective=None, random_state=123,\n",
       "                                 reg_alpha=0.0, reg_lambda=0.0, subsample=1.0,\n",
       "                                 subsample_for_bin=200000, subsample_freq=0))],\n",
       "          verbose=False),\n",
       " 'fraud_model.pkl')"
      ]
     },
     "execution_count": 66,
     "metadata": {},
     "output_type": "execute_result"
    }
   ],
   "source": [
    "save_model(best_model, 'fraud_model')"
   ]
  },
  {
   "cell_type": "markdown",
   "id": "1569e0e7-ca06-4008-9239-3e9e9aba1303",
   "metadata": {},
   "source": [
    "### Prediction"
   ]
  },
  {
   "cell_type": "markdown",
   "id": "795f4f7e-69b0-4b75-801a-82b1a1f652b1",
   "metadata": {},
   "source": [
    "we can run a real-time query from proton, per each coming record, we can run that prediction to check if it is a fraud or not"
   ]
  },
  {
   "cell_type": "markdown",
   "id": "84395527-bc81-48a9-b88b-b69055aa7c2f",
   "metadata": {},
   "source": [
    "#### load model"
   ]
  },
  {
   "cell_type": "code",
   "execution_count": 67,
   "id": "7a132337-1a1c-4687-a06e-da1bd426e4ab",
   "metadata": {},
   "outputs": [
    {
     "name": "stdout",
     "output_type": "stream",
     "text": [
      "Transformation Pipeline and Model Successfully Loaded\n"
     ]
    }
   ],
   "source": [
    "from pycaret.classification import load_model\n",
    "model = load_model('fraud_model')"
   ]
  },
  {
   "cell_type": "markdown",
   "id": "0b953d25-c1a1-4a0f-807c-afefa7f558f5",
   "metadata": {},
   "source": [
    "#### real-time inference\n",
    "\n",
    "by running the Proton streaming query and send those feature to the trained model, we can predict if a transaction is fraud or not in real-time\n",
    "\n",
    "you can change the number from the `LIMIT` or just remove the `LIMIT`, if there is no limit set, the query will be running forever unit user cancel it"
   ]
  },
  {
   "cell_type": "code",
   "execution_count": 78,
   "id": "28523676-3722-4076-8694-b11897ff589f",
   "metadata": {},
   "outputs": [
    {
     "data": {
      "text/html": [],
      "text/plain": [
       "<IPython.core.display.HTML object>"
      ]
     },
     "metadata": {},
     "output_type": "display_data"
    },
    {
     "name": "stdout",
     "output_type": "stream",
     "text": [
      "transaction 23a861db-aabd-424f-943e-d7748ea465a7 is not fraud\n"
     ]
    },
    {
     "data": {
      "text/html": [],
      "text/plain": [
       "<IPython.core.display.HTML object>"
      ]
     },
     "metadata": {},
     "output_type": "display_data"
    },
    {
     "name": "stdout",
     "output_type": "stream",
     "text": [
      "transaction 4cc484f4-1668-40c7-a23c-604e871684ab is not fraud\n"
     ]
    },
    {
     "data": {
      "text/html": [],
      "text/plain": [
       "<IPython.core.display.HTML object>"
      ]
     },
     "metadata": {},
     "output_type": "display_data"
    },
    {
     "name": "stdout",
     "output_type": "stream",
     "text": [
      "transaction e10e3090-3ffe-4a14-9085-7ceef933d8ff is not fraud\n"
     ]
    }
   ],
   "source": [
    "from pycaret.classification import predict_model\n",
    "query = '''\n",
    "SELECT \n",
    "  *\n",
    "FROM \n",
    "  mv_fraud_all_features\n",
    "LIMIT 3\n",
    "'''\n",
    "\n",
    "rows = c.execute_iter(query, with_column_types=True)\n",
    "header = next(rows)\n",
    "columns = [ f[0] for f in header]\n",
    "\n",
    "for r in rows:\n",
    "    df = pd.DataFrame([r], columns=columns)\n",
    "    df_infer = df[['id', 'type', 'amount', 'previous_amount', \n",
    "'time_to_last_transaction', 'transaction_count_1m', 'max_transaction_amount_1m',\n",
    "'avg_transaction_amount_1m','distinct_transaction_target_count_5m','avg_transaction_count_1d',\n",
    "'avg_max_transaction_count_1d']]\n",
    "    prediction = predict_model(model, data = df_infer)\n",
    "    id = prediction['id'].tolist()[0]\n",
    "    prediction_lable = prediction['prediction_label'].tolist()[0]\n",
    "    is_fraud = 'fraud' if prediction_lable == 1 else 'not fraud'\n",
    "    print(f\"transaction {id} is {is_fraud}\")\n",
    "    \n"
   ]
  }
 ],
 "metadata": {
  "kernelspec": {
   "display_name": "Python 3 (ipykernel)",
   "language": "python",
   "name": "python3"
  },
  "language_info": {
   "codemirror_mode": {
    "name": "ipython",
    "version": 3
   },
   "file_extension": ".py",
   "mimetype": "text/x-python",
   "name": "python",
   "nbconvert_exporter": "python",
   "pygments_lexer": "ipython3",
   "version": "3.11.6"
  }
 },
 "nbformat": 4,
 "nbformat_minor": 5
}
